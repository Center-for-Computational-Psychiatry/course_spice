{
 "cells": [
  {
   "cell_type": "markdown",
   "metadata": {},
   "source": [
    "<a target=\"_blank\" rel=\"noopener noreferrer\" href=\"https://colab.research.google.com/github/center-for-computational-psychiatry/course_spice/blob/master/modules/module-06_numerical-operations.ipynb\">![Open In Colab](https://colab.research.google.com/assets/colab-badge.svg)</a>\n",
    "\n",
    "# Numerical Operations\n",
    "This tutorial was inspired by and adapted from Shawn A. Rhoads' [PSYC 347 Course](https://shawnrhoads.github.io/gu-psyc-347/) [[CC BY-SA 4.0 License](https://creativecommons.org/licenses/by-sa/4.0/)].\n",
    "\n",
    "## Learning objectives\n",
    "\n",
    "This notebook is intended to teach you basic python syntax for:\n",
    "\n",
    "1. Basic mathematical operations\n",
    "2. Using the `numpy` library\n",
    "3. Using the `scipy` library"
   ]
  },
  {
   "cell_type": "markdown",
   "metadata": {},
   "source": []
  }
 ],
 "metadata": {
  "language_info": {
   "name": "python"
  },
  "orig_nbformat": 4
 },
 "nbformat": 4,
 "nbformat_minor": 2
}
