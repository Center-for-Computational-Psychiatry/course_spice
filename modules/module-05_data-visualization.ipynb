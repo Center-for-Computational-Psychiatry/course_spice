{
 "cells": [
  {
   "cell_type": "markdown",
   "metadata": {},
   "source": [
    "<a target=\"_blank\" rel=\"noopener noreferrer\" href=\"https://colab.research.google.com/github/center-for-computational-psychiatry/course_spice/blob/master/modules/module-05_data-visualization.ipynb\">![Open In Colab](https://colab.research.google.com/assets/colab-badge.svg)</a>\n",
    "\n",
    "# Data Visualization\n",
    "This tutorial was inspired by and adapted from Shawn A. Rhoads' [PSYC 347 Course](https://shawnrhoads.github.io/gu-psyc-347/) [[CC BY-SA 4.0 License](https://creativecommons.org/licenses/by-sa/4.0/)].\n",
    "\n",
    "## Learning objectives\n",
    "\n",
    "This notebook is intended to teach you basic python syntax for:\n",
    "\n",
    "1. Histograms\n",
    "2. Bar plots\n",
    "3. Point plots\n",
    "4. Violin plots\n",
    "5. Scatter plots\n",
    "\n",
    "Two packages will be used for data visualization: `matplotlib` and `seaborn`. `matplotlib` is a very powerful and flexible plotting package, but it can be a bit cumbersome to use. `seaborn` is a package that is built on top of `matplotlib` and makes it easier to create beautiful plots. We will use `seaborn` for most of our plotting needs."
   ]
  },
  {
   "cell_type": "markdown",
   "metadata": {},
   "source": [
    "## Histograms\n",
    "\n",
    "In the last module, we viewed the distributions of variables using the `value_counts()` method. We can also use histogram plots to accomplish this task. Histograms are useful for visualizing the distribution of a single variable. The x-axis of a histogram is the range of values for the variable, and the y-axis is the frequency of occurrence for each value.\n",
    "\n",
    "To plot a histogram, we will use the `distplot()` function from the `seaborn` package. The `distplot()` function takes a single variable as input and plots a histogram of that variable. Let's plot a histogram of the \"Age\" variable from the Banker et al. (2022) dataset."
   ]
  },
  {
   "cell_type": "code",
   "execution_count": null,
   "metadata": {},
   "outputs": [],
   "source": [
    "# First let's import some packages\n",
    "import pandas as pd              # we will import the pandas package and call it pd\n",
    "import matplotlib.pyplot as plt  # we will import the pyplot module from matplotlib package and call it plt\n",
    "import seaborn as sns            # we will import the seaborn package and call it sns"
   ]
  },
  {
   "cell_type": "code",
   "execution_count": null,
   "metadata": {},
   "outputs": [],
   "source": [
    "# let's read the data from the csv file (we will use the clean version that we created in the previous module)\n",
    "our_data = pd.read_csv('https://raw.githubusercontent.com/Center-for-Computational-Psychiatry/course_spice/main/modules/resources/data/Banker_et_al_2022_QuestionnaireData_clean.csv')"
   ]
  },
  {
   "cell_type": "code",
   "execution_count": null,
   "metadata": {},
   "outputs": [],
   "source": [
    "# Now we will plot a histogram of the age of the participants\n",
    "ax = sns.distplot(our_data['Age'], kde=False)\n",
    "\n",
    "# we can also add a title and labels to the axes\n",
    "ax.set_title('Age of participants')\n",
    "ax.set_xlabel('Age')\n",
    "ax.set_ylabel('Number of participants')\n",
    "\n",
    "# we can also tidy up some more by removing the top and right spines\n",
    "sns.despine()\n",
    "\n",
    "# we will use the `show()` function to plot within the notebook\n",
    "plt.show()"
   ]
  },
  {
   "cell_type": "markdown",
   "metadata": {},
   "source": [
    "As we remarked in the last module, we have a pretty young sample! How about we plot the mean on the histogram too?\n",
    "\n",
    "We can use the `axvline()` function from `matplotlib` to plot a vertical line at the mean of the distribution. The `axvline()` function takes the mean of the distribution as input. We can get the mean of the distribution using the `mean()` method."
   ]
  },
  {
   "cell_type": "code",
   "execution_count": null,
   "metadata": {},
   "outputs": [],
   "source": [
    "# Now we will plot a histogram of the age of the participants\n",
    "ax = sns.distplot(our_data['Age'], kde=False)\n",
    "\n",
    "# we can also add a title and labels to the axes\n",
    "ax.set_title('Age of participants')\n",
    "ax.set_xlabel('Age')\n",
    "ax.set_ylabel('Number of participants')\n",
    "\n",
    "# we can also tidy up some more by removing the top and right spines\n",
    "sns.despine()\n",
    "\n",
    "# add a vertical line to show the Mean age\n",
    "ax.axvline(our_data['Age'].mean(), color='red', linestyle='--')\n",
    "\n",
    "# we will use the `show()` function to plot within the notebook\n",
    "plt.show()"
   ]
  },
  {
   "cell_type": "markdown",
   "metadata": {},
   "source": [
    "The mean might not be the best summary statistic for our data since \"Age\" is so skewed. Let's also plot the median on the histogram. We can use the `axvline()` function again, but this time we will use the `median()` method to get the median of the distribution."
   ]
  },
  {
   "cell_type": "code",
   "execution_count": null,
   "metadata": {},
   "outputs": [],
   "source": [
    "# Now we will plot a histogram of the age of the participants\n",
    "ax = sns.distplot(our_data['Age'], kde=False)\n",
    "\n",
    "# we can also add a title and labels to the axes\n",
    "ax.set_title('Age of participants')\n",
    "ax.set_xlabel('Age')\n",
    "ax.set_ylabel('Number of participants')\n",
    "\n",
    "# we can also tidy up some more by removing the top and right spines\n",
    "sns.despine()\n",
    "\n",
    "# add a vertical line to show the Mean age\n",
    "ax.axvline(our_data['Age'].mean(), color='red', linestyle='--')\n",
    "\n",
    "# add a vertical line to show the Median age\n",
    "ax.axvline(our_data['Age'].median(), color='black', linestyle='-')\n",
    "\n",
    "# we will use the `show()` function to plot within the notebook\n",
    "plt.show()"
   ]
  },
  {
   "cell_type": "markdown",
   "metadata": {},
   "source": [
    "We can see that the median is a better summary statistic for our data than the mean. The median is a more robust summary statistic than the mean because it is less sensitive to outliers.\n",
    "\n",
    "However, based on this plot alone it would be tough for anyone else reading the plot to know what the mean and median are. Let's add a legend to the plot to make it easier for others to interpret."
   ]
  },
  {
   "cell_type": "code",
   "execution_count": null,
   "metadata": {},
   "outputs": [],
   "source": [
    "# Now we will plot a histogram of the age of the participants\n",
    "ax = sns.distplot(our_data['Age'], kde=False)\n",
    "\n",
    "# we can also add a title and labels to the axes\n",
    "ax.set_title('Age of participants')\n",
    "ax.set_xlabel('Age')\n",
    "ax.set_ylabel('Number of participants')\n",
    "\n",
    "# we can also tidy up some more by removing the top and right spines\n",
    "sns.despine()\n",
    "\n",
    "# add a vertical line to show the Mean age\n",
    "ax.axvline(our_data['Age'].mean(), color='red', linestyle='--')\n",
    "\n",
    "# add a vertical line to show the Median age\n",
    "ax.axvline(our_data['Age'].median(), color='black', linestyle='-')\n",
    "\n",
    "# add a legend for our lines\n",
    "ax.legend(['Mean', 'Median'])\n",
    "\n",
    "# we will use the `show()` function to plot within the notebook\n",
    "plt.show()"
   ]
  },
  {
   "cell_type": "markdown",
   "metadata": {},
   "source": [
    "We can also plot the histogram of one of our other psychiatric variables. Let's plot a histogram of Depression."
   ]
  },
  {
   "cell_type": "code",
   "execution_count": null,
   "metadata": {},
   "outputs": [],
   "source": [
    "# Now we will plot a histogram of the age of the participants\n",
    "ax = sns.distplot(our_data['Depression'], kde=False)\n",
    "\n",
    "# we can also add a title and labels to the axes\n",
    "ax.set_xlabel('Depression')\n",
    "ax.set_ylabel('Number of participants')\n",
    "\n",
    "# we can also tidy up some more by removing the top and right spines\n",
    "sns.despine()\n",
    "\n",
    "# add a vertical line to show the Mean age\n",
    "ax.axvline(our_data['Depression'].mean(), color='red', linestyle='--')\n",
    "\n",
    "# add a vertical line to show the Median age\n",
    "ax.axvline(our_data['Depression'].median(), color='black', linestyle='-')\n",
    "\n",
    "# add a legend for our lines\n",
    "ax.legend(['Mean', 'Median'])\n",
    "\n",
    "# we will use the `show()` function to plot within the notebook\n",
    "plt.show()"
   ]
  },
  {
   "cell_type": "markdown",
   "metadata": {},
   "source": [
    "## Bar plots\n",
    "\n",
    "Bar plots are useful for visualizing the distribution of a categorical variable. The x-axis of a bar plot is the categories of the variable, and the y-axis is the frequency of occurrence for each category.\n",
    "\n",
    "We can use a bar plot to look at our distribution of \"Sex\" in our sample. We will use the `countplot()` function from `seaborn` to plot a bar plot. The `countplot()` function takes a single variable as input and plots a bar plot of that variable."
   ]
  },
  {
   "cell_type": "code",
   "execution_count": null,
   "metadata": {},
   "outputs": [],
   "source": [
    "# Plot a bar plot of Sex of participants\n",
    "ax = sns.countplot(x='Sex', data=our_data)\n",
    "\n",
    "# we can also add a title and labels to the axes\n",
    "ax.set_title('Sex of participants')\n",
    "ax.set_xlabel('Sex')\n",
    "ax.set_ylabel('Number of participants')\n",
    "\n",
    "# we can also tidy up some more by removing the top and right spines\n",
    "sns.despine()\n",
    "\n",
    "# we will use the `show()` function to plot within the notebook\n",
    "plt.show()"
   ]
  },
  {
   "cell_type": "markdown",
   "metadata": {},
   "source": [
    "Sometimes, the labels for a variable will be coded (for example, in our dataset, 1=Male, 2=Female, 3=Other) and thus not accessible to someone who is not familiar with the data. There are two solutions to this. \n",
    "\n",
    "First, we can change the labels manually after plotting. We will use the `set_xticklabels()` method to change the xticklabels. The `set_xticklabels()` method takes a list of strings as input and changes the xticklabels to the strings in the list. We will use the `xticklabels` argument to specify the list of strings."
   ]
  },
  {
   "cell_type": "code",
   "execution_count": null,
   "metadata": {},
   "outputs": [],
   "source": [
    "# Plot a bar plot of Sex of participants\n",
    "ax = sns.countplot(x='Sex', data=our_data)\n",
    "\n",
    "# we can also add a title and labels to the axes\n",
    "ax.set_title('Sex of participants')\n",
    "ax.set_xlabel('Sex')\n",
    "ax.set_ylabel('Number of participants')\n",
    "\n",
    "# Let's change the xticklabels (we know the order already from the previous plot, so we can just use a list)\n",
    "ax.set_xticklabels(['Male', 'Female', 'Other'])\n",
    "\n",
    "# we can also tidy up some more by removing the top and right spines\n",
    "sns.despine()\n",
    "\n",
    "# we will use the `show()` function to plot within the notebook\n",
    "plt.show()"
   ]
  },
  {
   "cell_type": "markdown",
   "metadata": {},
   "source": [
    "Alternatively, we can change them in the dataframe directly before plotting. To do this, we will use the `replace()` method. The `replace()` method takes a dictionary as input and replaces the keys in the dictionary with the values in the dictionary. We will use the `inplace` argument to specify that we want to change the values in the dataframe directly."
   ]
  },
  {
   "cell_type": "code",
   "execution_count": null,
   "metadata": {},
   "outputs": [],
   "source": [
    "# Change the labels for Sex to be more descriptive\n",
    "our_data['Sex'].replace({1:'Male', 2:'Female', 3:'Other'}, inplace=True)\n",
    "\n",
    "# Plot a bar plot of Sex of participants\n",
    "ax = sns.countplot(x='Sex', data=our_data)\n",
    "\n",
    "# we can also add a title and labels to the axes\n",
    "ax.set_title('Sex of participants')\n",
    "ax.set_xlabel('Sex')\n",
    "ax.set_ylabel('Number of participants')\n",
    "\n",
    "# we can also tidy up some more by removing the top and right spines\n",
    "sns.despine()\n",
    "\n",
    "# we will use the `show()` function to plot within the notebook\n",
    "plt.show()"
   ]
  },
  {
   "cell_type": "markdown",
   "metadata": {},
   "source": [
    "We can also plot the frequencies of two categorical variables at the same time. We can accomplish this using the `barplot()` function from `seaborn` and including the `hue` flag. The `hue` flag takes a categorical variable as input and plots the distribution of the first variable for each category of the second variable.\n",
    "\n",
    "Let's plot the counts of Sex for each of our Income groups (which we created in the previous module)."
   ]
  },
  {
   "cell_type": "code",
   "execution_count": null,
   "metadata": {},
   "outputs": [],
   "source": [
    "ax = sns.countplot(x='IncomeSplit', hue='Sex', data=our_data)\n",
    "\n",
    "# we can also add a title and labels to the axes\n",
    "ax.set_title('Income of participants by Sex')\n",
    "ax.set_xlabel('Income')\n",
    "ax.set_ylabel('Number of participants')\n",
    "\n",
    "# change legend title\n",
    "ax.legend(title='Sex')\n",
    "\n",
    "# we can also tidy up some more by removing the top and right spines\n",
    "sns.despine()\n",
    "\n",
    "# we will use the `show()` function to plot within the notebook\n",
    "plt.show()"
   ]
  },
  {
   "cell_type": "markdown",
   "metadata": {},
   "source": [
    "## Point plots\n",
    "\n",
    "Point plots are useful for visualizing the relationship between two categorical variables. The x-axis of a point plot is the categories of one variable, and the y-axis is the mean of the second variable for each category.\n",
    "\n",
    "We can use the point plot to look at one of our measures as a function of Depression. Let's see how Loneliness changes with Depression symptoms. We will use the `pointplot()` function from `seaborn` to plot a point plot. The `pointplot()` function takes two variables as input and plots a point plot of the first variable as a function of the second variable."
   ]
  },
  {
   "cell_type": "code",
   "execution_count": null,
   "metadata": {},
   "outputs": [],
   "source": [
    "# Let's create a new variable called `DepressionGroups` with two age groups: Low and High\n",
    "our_data['DepressionGroups'] = pd.cut(our_data['Depression'], 2, labels=['Low', 'High'])\n",
    "\n",
    "# Plot a pointplot of Mean Loneliness as a function of Depression Groups\n",
    "ax = sns.pointplot(x='DepressionGroups', \n",
    "                   y='Loneliness',                   \n",
    "                   data=our_data)\n",
    "\n",
    "# we can also add a title and labels to the axes\n",
    "ax.set_title('Mean Loneliness as a function of Depression')\n",
    "ax.set_xlabel('Depression')\n",
    "ax.set_ylabel('Mean Loneliness')\n",
    "\n",
    "# we can also tidy up some more by removing the top and right spines\n",
    "sns.despine()\n",
    "\n",
    "# we will use the `show()` function to plot within the notebook\n",
    "plt.show()"
   ]
  },
  {
   "cell_type": "markdown",
   "metadata": {},
   "source": [
    "Younger people appear to be slightly lonelier than older people in our sample.\n",
    "\n",
    "The pointplot is informative because it shows us the mean of the second variable (`Loneliness`) for each category of the first variable (`Age`). However, it only depicts the mean and confidence intervals. We are missing information about the distribution of the Loneliness for each Age group, which is informative when comparing groups.\n",
    "\n",
    "## Violin plots\n",
    "\n",
    "Our solution to this is to use a violin plot. Violin plots are useful for visualizing the relationship between a categorical variable and a continuous variable. The x-axis of a violin plot is the categories of the categorical variable, and the y-axis is the distribution of the continuous variable for each category (this is similar to the histogram plots from above).\n",
    "\n",
    "Let's plot our variables again using a violin plot. We will use the `violinplot()` function from `seaborn` to plot a violin plot. The `violinplot()` function takes two variables as input and plots a violin plot of the first variable as a function of the second variable."
   ]
  },
  {
   "cell_type": "code",
   "execution_count": null,
   "metadata": {},
   "outputs": [],
   "source": [
    "# Plot a pointplot of Mean Loneliness as a function of Depression Groups\n",
    "ax = sns.violinplot(x='DepressionGroups', \n",
    "                   y='Loneliness',                   \n",
    "                   data=our_data)\n",
    "\n",
    "# we can also add a title and labels to the axes\n",
    "ax.set_title('Loneliness as a function of Depression')\n",
    "ax.set_xlabel('Depression')\n",
    "ax.set_ylabel('Loneliness')\n",
    "\n",
    "# we can also tidy up some more by removing the top and right spines\n",
    "sns.despine()\n",
    "\n",
    "# we will use the `show()` function to plot within the notebook\n",
    "plt.show()"
   ]
  },
  {
   "cell_type": "markdown",
   "metadata": {},
   "source": [
    "Notice how the violin plot shows us the distribution of Loneliness for each Depression group."
   ]
  },
  {
   "cell_type": "markdown",
   "metadata": {},
   "source": [
    "## Scatter plots\n",
    "\n",
    "The pointplot and violin plots still lack some information about the individual participants in our sample. Because we collected participants' Depression symptoms as a continuous measure, we can push our limits from the previous two plots and look at the continous relationship between Loneliness and Depression. We can use a scatter plot to visualize the relationship between two continuous variables. The x-axis of a scatter plot is one continuous variable, and the y-axis is the other continuous variable.\n",
    "\n",
    "We will use the `scatterplot()` function from `seaborn` to plot a scatter plot. The `scatterplot()` function takes two variables as input and plots a scatter plot of the first variable as a function of the second variable."
   ]
  },
  {
   "cell_type": "code",
   "execution_count": null,
   "metadata": {},
   "outputs": [],
   "source": [
    "# Plot a pointplot of Mean Loneliness as a function of Depression\n",
    "ax = sns.scatterplot(x='Loneliness', \n",
    "                     y='Depression',\n",
    "                     data=our_data)\n",
    "\n",
    "# we can also add a title and labels to the axes\n",
    "ax.set_title('Loneliness as a function of Depression')\n",
    "ax.set_xlabel('Depression')\n",
    "ax.set_ylabel('Loneliness')\n",
    "\n",
    "# we can also tidy up some more by removing the top and right spines\n",
    "sns.despine()\n",
    "\n",
    "# we will use the `show()` function to plot within the notebook\n",
    "plt.show()"
   ]
  },
  {
   "cell_type": "markdown",
   "metadata": {},
   "source": [
    "We can now view the entire relationship between Loneliness and Depression. Each dot on this plot represents one person. We can see that there is a positive relationship between Loneliness and Depression. This means that as Loneliness increases, Depression also increases. (Remember, we cannot make any causal claims about this relationship here. People who are more depressed could become more lonely or people who are more lonely could become more depressed.)\n",
    "\n",
    "We can also stylize our figure aesthetics a bit more. Here are some things that we can do to make our plots more readable:\n",
    "- Change the opacity of the dots, which will provide a better idea of the frequency of overlapping values: We can use the `alpha` argument to change the opacity of the dots. The `alpha` argument takes a number between 0 and 1 as input and changes the opacity of the dots to that number.\n",
    "- Change the color of the dots: We can use the `color` argument to change the color of the dots. The `color` argument takes a color name as input and changes the color of the dots to that color.\n",
    "- Change the size of the dots: We can use the `s` argument to change the size of the dots. The `s` argument takes a number as input and changes the size of the dots to that number.\n",
    "- Add an annotation of the correlation between these variables: We can use the `annotate()` function from `matplotlib` to add an annotation to our plot. The `annotate()` function takes a string as input and adds the string to the plot. \n",
    "- Set a predefined style for our plot (I like `sns.set_context(\"poster\")`). We can use the `set_context()` function from `seaborn` to set a predefined style for our plot. The `set_context()` function takes a string as input and sets the style of the plot to the style specified by the string."
   ]
  },
  {
   "cell_type": "code",
   "execution_count": null,
   "metadata": {},
   "outputs": [],
   "source": [
    "# change the style\n",
    "sns.set_context('poster')\n",
    "\n",
    "# Plot a pointplot of Mean Loneliness as a function of Depression\n",
    "ax = sns.scatterplot(x='Loneliness', \n",
    "                     y='Depression',\n",
    "                     s=75,            # set size of points to 50\n",
    "                     alpha=0.15,      # set opacity to 0.15\n",
    "                     color='purple',  # set color to purple\n",
    "                     data=our_data)\n",
    "\n",
    "# we can also add a title and labels to the axes\n",
    "ax.set_xlabel('Depression')\n",
    "ax.set_ylabel('Loneliness')\n",
    "\n",
    "# Compute the correlation between Loneliness and Depression\n",
    "corr = our_data['Loneliness'].corr(our_data['Depression'], method='pearson')\n",
    "\n",
    "# Annotation with the correlation in the top left corner with small font size\n",
    "ax.annotate(f'Pearson r = {corr:.2f}', xy=(0.05, 0.95), xycoords='axes fraction', fontsize=12)\n",
    "\n",
    "# we can also tidy up some more by removing the top and right spines\n",
    "sns.despine()\n",
    "\n",
    "# we will use the `show()` function to plot within the notebook\n",
    "plt.show()"
   ]
  },
  {
   "cell_type": "markdown",
   "metadata": {},
   "source": [
    "## Creating a grid of subplots"
   ]
  },
  {
   "cell_type": "markdown",
   "metadata": {},
   "source": [
    "Finally, we can create a 2 x 2 grid of our plots above using the `subplots()` function from `matplotlib`. The `subplots()` function takes two arguments: the number of rows and the number of columns. We will use the `figsize` argument to specify the size of the figure.\n",
    "\n",
    "Then, for each subplot, we specify the axes object that we want to plot on. We can do this using the `axs` object created from our `plt.subplots()` function. "
   ]
  },
  {
   "cell_type": "code",
   "execution_count": null,
   "metadata": {},
   "outputs": [],
   "source": [
    "sns.set_context('poster')\n",
    "\n",
    "# create a 2x2 grid of subplots\n",
    "fig, axs = plt.subplots(nrows=2, ncols=2, figsize=(16, 12))\n",
    "\n",
    "# plot the first subplot\n",
    "sns.distplot(our_data['Depression'], kde=False, ax=axs[0, 0])\n",
    "axs[0, 0].set_xlabel('Depression')\n",
    "axs[0, 0].set_ylabel('Number of participants')\n",
    "sns.despine(ax=axs[0, 0])\n",
    "axs[0, 0].axvline(our_data['Depression'].mean(), color='red', linestyle='--')\n",
    "axs[0, 0].axvline(our_data['Depression'].median(), color='black', linestyle='-')\n",
    "axs[0, 0].legend(['Mean', 'Median'])\n",
    "\n",
    "# plot the second subplot\n",
    "sns.pointplot(x='DepressionGroups', y='Loneliness', data=our_data, ax=axs[0, 1])\n",
    "axs[0, 1].set_xlabel('Depression')\n",
    "axs[0, 1].set_ylabel('Mean Loneliness')\n",
    "\n",
    "# plot the third subplot\n",
    "sns.violinplot(x='DepressionGroups', y='Loneliness', data=our_data, ax=axs[1, 0])\n",
    "axs[1, 0].set_xlabel('Depression')\n",
    "axs[1, 0].set_ylabel('Loneliness')\n",
    "\n",
    "# plot the fourth subplot\n",
    "sns.scatterplot(x='Loneliness', y='Depression', s=75, alpha=0.15, color='purple', data=our_data, ax=axs[1, 1])\n",
    "axs[1, 1].set_xlabel('Depression')\n",
    "axs[1, 1].set_ylabel('Loneliness')\n",
    "corr = our_data['Loneliness'].corr(our_data['Depression'])\n",
    "axs[1, 1].annotate(f'Pearson r = {corr:.2f}', xy=(0.05, 0.95), xycoords='axes fraction', fontsize=12)\n",
    "sns.despine()\n",
    "\n",
    "# adjust the spacing between subplots\n",
    "plt.subplots_adjust(hspace=0.3, wspace=0.3)\n",
    "\n",
    "# We can also save the figure to a file using the following code:\n",
    "plt.savefig('loneliness-and-depression-figure.png', dpi=300)"
   ]
  },
  {
   "cell_type": "markdown",
   "metadata": {},
   "source": [
    "This plot is a combination of four different plots that we have previously created. The first plot is a histogram that shows the number of participants who reported subjective loneliness. The second plot is a point plot that shows the average level of loneliness for different groups of participants who reported different levels of depression. The third plot is a violin plot that shows the distribution of loneliness scores for different groups of participants who reported different levels of depression. The fourth plot is a scatter plot that shows the relationship between loneliness and depression scores for each participant. \n",
    "\n",
    "Combining plots into a 2x2 grid makes it easier to see how they relate to each other and get a better understanding of the data."
   ]
  },
  {
   "cell_type": "markdown",
   "metadata": {},
   "source": [
    "## Next steps\n",
    "\n",
    "Try plotting some other variables! "
   ]
  },
  {
   "cell_type": "code",
   "execution_count": null,
   "metadata": {},
   "outputs": [],
   "source": [
    "# Insert your code here"
   ]
  },
  {
   "cell_type": "markdown",
   "metadata": {},
   "source": [
    "There are so many more things you can do with Seaborn, but this should get you started. If you want to learn more, check out the Seaborn documentation here: https://seaborn.pydata.org/\n",
    "\n",
    "I also recommend checking out the following resources:\n",
    "- Matplotlib gallery (https://matplotlib.org/gallery/index.html)\n",
    "- Seaborn gallery (https://seaborn.pydata.org/examples/index.html)\n",
    "- The Python Graph Gallery (https://python-graph-gallery.com/)\n",
    "- Visualization with Matplotlib (https://jakevdp.github.io/PythonDataScienceHandbook/04.00-introduction-to-matplotlib.html)\n",
    "- Visualization with Seaborn (https://jakevdp.github.io/PythonDataScienceHandbook/04.14-visualization-with-seaborn.html)"
   ]
  }
 ],
 "metadata": {
  "kernelspec": {
   "display_name": "base",
   "language": "python",
   "name": "python3"
  },
  "language_info": {
   "codemirror_mode": {
    "name": "ipython",
    "version": 3
   },
   "file_extension": ".py",
   "mimetype": "text/x-python",
   "name": "python",
   "nbconvert_exporter": "python",
   "pygments_lexer": "ipython3",
   "version": "3.7.6"
  },
  "orig_nbformat": 4
 },
 "nbformat": 4,
 "nbformat_minor": 2
}
